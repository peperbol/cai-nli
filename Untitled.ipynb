{
 "cells": [
  {
   "cell_type": "code",
   "execution_count": 4,
   "metadata": {},
   "outputs": [],
   "source": [
    "import pandas as pd\n",
    "import numpy as np\n",
    "import os\n",
    "\n",
    "from sklearn.feature_extraction.text import TfidfTransformer"
   ]
  },
  {
   "cell_type": "code",
   "execution_count": 18,
   "metadata": {},
   "outputs": [
    {
     "name": "stdout",
     "output_type": "stream",
     "text": [
      "<bound method NDFrame.head of        Unnamed: 0 label                                               text\n",
      "0               0   TUR  Life is all about the preferences. some people...\n",
      "1               1   TEL  \\tI agree with the statement that \"Most advert...\n",
      "2               2   FRE  \\tIn today's society, advertisement is the sou...\n",
      "3               3   SPA  I am agree with the statement. I think that pe...\n",
      "4               4   KOR  \\tSome people may think that the older people ...\n",
      "...           ...   ...                                                ...\n",
      "10995       10995   JPN  I think that it is better to specialize in one...\n",
      "10996       10996   TUR  first of all \\ I think to be achcive what we w...\n",
      "10997       10997   ARA  \\tI am agree with the statement that sucessful...\n",
      "10998       10998   CHI  Before presenting my point of view, I think it...\n",
      "10999       10999   SPA  \\tThroughtout high school, students learn seve...\n",
      "\n",
      "[11000 rows x 3 columns]>\n"
     ]
    }
   ],
   "source": [
    "tr = pd.read_csv('training_dataset.csv')\n",
    "\n",
    "print(tr.head)"
   ]
  },
  {
   "cell_type": "code",
   "execution_count": 33,
   "metadata": {},
   "outputs": [
    {
     "data": {
      "text/plain": [
       "0            0\n",
       "1            1\n",
       "2            2\n",
       "3            3\n",
       "4            4\n",
       "         ...  \n",
       "10995    10995\n",
       "10996    10996\n",
       "10997    10997\n",
       "10998    10998\n",
       "10999    10999\n",
       "Name: Unnamed: 0, Length: 11000, dtype: int64"
      ]
     },
     "execution_count": 33,
     "metadata": {},
     "output_type": "execute_result"
    }
   ],
   "source": [
    "tr['Unnamed: 0']"
   ]
  },
  {
   "cell_type": "code",
   "execution_count": null,
   "metadata": {},
   "outputs": [],
   "source": [
    "data_directory = \"nli\"\n",
    "\n",
    "X, y = [], []\n",
    "\n",
    "x = pd.DataFrame(columns=['Text', 'Word', 'POS', 'Tag', 'Dependency'])\n",
    "z = pd.DataFrame(columns = [''])\n",
    "\n",
    "cnt = 1\n",
    "for filename in os.listdir(data_directory):\n",
    "    y, _ = filename.split(\"_\")\n",
    "    doc = nlp(open(os.path.join(data_directory, filename), \"r\").read())\n",
    "    print(f'Now processing text: {filename}, text {cnt} of {len(os.listdir(data_directory))}')\n",
    "    cnt += 1\n",
    "\n",
    "    for token in doc:\n",
    "        x = x.append({'Text': _, 'Word': token.text, 'POS': token.pos_, 'Tag' : token.tag_, 'Dependency' : token.dep_}, ignore_index=True)\n",
    "    \n",
    "Y.append(y)\n",
    "#X.append(x)\n",
    "\n",
    "print('Done')"
   ]
  },
  {
   "cell_type": "code",
   "execution_count": null,
   "metadata": {},
   "outputs": [],
   "source": []
  },
  {
   "cell_type": "code",
   "execution_count": null,
   "metadata": {},
   "outputs": [],
   "source": []
  },
  {
   "cell_type": "code",
   "execution_count": null,
   "metadata": {},
   "outputs": [],
   "source": []
  },
  {
   "cell_type": "code",
   "execution_count": null,
   "metadata": {},
   "outputs": [],
   "source": []
  },
  {
   "cell_type": "code",
   "execution_count": null,
   "metadata": {},
   "outputs": [],
   "source": []
  },
  {
   "cell_type": "code",
   "execution_count": 34,
   "metadata": {},
   "outputs": [
    {
     "name": "stdout",
     "output_type": "stream",
     "text": [
      "Now processing text: ITA_10156.txt, text 1 of 20\n",
      "Now processing text: TUR_10817.txt, text 2 of 20\n",
      "Now processing text: ITA_10137.txt, text 3 of 20\n",
      "Now processing text: JPN_2088.txt, text 4 of 20\n",
      "Now processing text: TUR_10834.txt, text 5 of 20\n",
      "Now processing text: ARA_122.txt, text 6 of 20\n",
      "Now processing text: ITA_10111.txt, text 7 of 20\n",
      "Now processing text: TUR_10803.txt, text 8 of 20\n",
      "Now processing text: ITA_10106.txt, text 9 of 20\n",
      "Now processing text: JPN_2080.txt, text 10 of 20\n",
      "Now processing text: JPN_1993.txt, text 11 of 20\n",
      "Now processing text: ARA_125.txt, text 12 of 20\n",
      "Now processing text: ARA_140.txt, text 13 of 20\n",
      "Now processing text: ITA_10145.txt, text 14 of 20\n",
      "Now processing text: TUR_10830.txt, text 15 of 20\n",
      "Now processing text: ARA_154.txt, text 16 of 20\n",
      "Now processing text: JPN_1986.txt, text 17 of 20\n",
      "Now processing text: TUR_10828.txt, text 18 of 20\n",
      "Now processing text: ARA_146.txt, text 19 of 20\n",
      "Now processing text: JPN_2037.txt, text 20 of 20\n"
     ]
    }
   ],
   "source": [
    "import os\n",
    "import numpy as np\n",
    "import pandas as pd\n",
    "\n",
    "from sklearn.feature_extraction.text import TfidfTransformer, CountVectorizer\n",
    "from sklearn.pipeline import Pipeline\n",
    "from sklearn.model_selection import GridSearchCV\n",
    "\n",
    "#################################################\n",
    "#\tGeneration of the dataframe containing the \t#\n",
    "#\traw training text and their assigned labels\t#\n",
    "#################################################\n",
    "\n",
    "df = pd.DataFrame(columns = ['label', 'text'])\n",
    "\n",
    "cnt = 1\n",
    "\n",
    "data_directory = 'nli2'\n",
    "\n",
    "for filename in os.listdir(data_directory):\n",
    "    print(f'Now processing text: {filename}, text {cnt} of {len(os.listdir(data_directory))}')\n",
    "    cnt += 1\n",
    "    \n",
    "    label_, _ = filename.split(\"_\")\n",
    "    doc_ = open(f'{data_directory}/{filename}', 'r').read()\n",
    "    \n",
    "    df = df.append({'label': label_, 'text': doc_}, ignore_index = True)"
   ]
  },
  {
   "cell_type": "code",
   "execution_count": 35,
   "metadata": {},
   "outputs": [
    {
     "data": {
      "text/html": [
       "<div>\n",
       "<style scoped>\n",
       "    .dataframe tbody tr th:only-of-type {\n",
       "        vertical-align: middle;\n",
       "    }\n",
       "\n",
       "    .dataframe tbody tr th {\n",
       "        vertical-align: top;\n",
       "    }\n",
       "\n",
       "    .dataframe thead th {\n",
       "        text-align: right;\n",
       "    }\n",
       "</style>\n",
       "<table border=\"1\" class=\"dataframe\">\n",
       "  <thead>\n",
       "    <tr style=\"text-align: right;\">\n",
       "      <th></th>\n",
       "      <th>label</th>\n",
       "      <th>text</th>\n",
       "    </tr>\n",
       "  </thead>\n",
       "  <tbody>\n",
       "    <tr>\n",
       "      <th>0</th>\n",
       "      <td>ITA</td>\n",
       "      <td>Traffic, a rapid increase in fuel price and it...</td>\n",
       "    </tr>\n",
       "    <tr>\n",
       "      <th>1</th>\n",
       "      <td>TUR</td>\n",
       "      <td>While I was in school I was very unhappy when ...</td>\n",
       "    </tr>\n",
       "    <tr>\n",
       "      <th>2</th>\n",
       "      <td>ITA</td>\n",
       "      <td>The idea that young people nowadays do not dev...</td>\n",
       "    </tr>\n",
       "    <tr>\n",
       "      <th>3</th>\n",
       "      <td>JPN</td>\n",
       "      <td>Some people think that  it is the best way ...</td>\n",
       "    </tr>\n",
       "    <tr>\n",
       "      <th>4</th>\n",
       "      <td>TUR</td>\n",
       "      <td>Are you young? you have to know the importa...</td>\n",
       "    </tr>\n",
       "  </tbody>\n",
       "</table>\n",
       "</div>"
      ],
      "text/plain": [
       "  label                                               text\n",
       "0   ITA  Traffic, a rapid increase in fuel price and it...\n",
       "1   TUR  While I was in school I was very unhappy when ...\n",
       "2   ITA  The idea that young people nowadays do not dev...\n",
       "3   JPN     Some people think that  it is the best way ...\n",
       "4   TUR     Are you young? you have to know the importa..."
      ]
     },
     "execution_count": 35,
     "metadata": {},
     "output_type": "execute_result"
    }
   ],
   "source": [
    "df.head()"
   ]
  },
  {
   "cell_type": "code",
   "execution_count": 36,
   "metadata": {},
   "outputs": [],
   "source": [
    "\n",
    "df.to_csv(r'testje.csv')\n"
   ]
  },
  {
   "cell_type": "code",
   "execution_count": 38,
   "metadata": {},
   "outputs": [
    {
     "data": {
      "text/html": [
       "<div>\n",
       "<style scoped>\n",
       "    .dataframe tbody tr th:only-of-type {\n",
       "        vertical-align: middle;\n",
       "    }\n",
       "\n",
       "    .dataframe tbody tr th {\n",
       "        vertical-align: top;\n",
       "    }\n",
       "\n",
       "    .dataframe thead th {\n",
       "        text-align: right;\n",
       "    }\n",
       "</style>\n",
       "<table border=\"1\" class=\"dataframe\">\n",
       "  <thead>\n",
       "    <tr style=\"text-align: right;\">\n",
       "      <th></th>\n",
       "      <th>Unnamed: 0</th>\n",
       "      <th>label</th>\n",
       "      <th>text</th>\n",
       "    </tr>\n",
       "  </thead>\n",
       "  <tbody>\n",
       "    <tr>\n",
       "      <th>0</th>\n",
       "      <td>0</td>\n",
       "      <td>TUR</td>\n",
       "      <td>Life is all about the preferences. some people...</td>\n",
       "    </tr>\n",
       "    <tr>\n",
       "      <th>1</th>\n",
       "      <td>1</td>\n",
       "      <td>TEL</td>\n",
       "      <td>\\tI agree with the statement that \"Most advert...</td>\n",
       "    </tr>\n",
       "    <tr>\n",
       "      <th>2</th>\n",
       "      <td>2</td>\n",
       "      <td>FRE</td>\n",
       "      <td>\\tIn today's society, advertisement is the sou...</td>\n",
       "    </tr>\n",
       "    <tr>\n",
       "      <th>3</th>\n",
       "      <td>3</td>\n",
       "      <td>SPA</td>\n",
       "      <td>I am agree with the statement. I think that pe...</td>\n",
       "    </tr>\n",
       "    <tr>\n",
       "      <th>4</th>\n",
       "      <td>4</td>\n",
       "      <td>KOR</td>\n",
       "      <td>\\tSome people may think that the older people ...</td>\n",
       "    </tr>\n",
       "  </tbody>\n",
       "</table>\n",
       "</div>"
      ],
      "text/plain": [
       "   Unnamed: 0 label                                               text\n",
       "0           0   TUR  Life is all about the preferences. some people...\n",
       "1           1   TEL  \\tI agree with the statement that \"Most advert...\n",
       "2           2   FRE  \\tIn today's society, advertisement is the sou...\n",
       "3           3   SPA  I am agree with the statement. I think that pe...\n",
       "4           4   KOR  \\tSome people may think that the older people ..."
      ]
     },
     "execution_count": 38,
     "metadata": {},
     "output_type": "execute_result"
    }
   ],
   "source": [
    "tr = pd.read_csv('training_dataset.csv')\n",
    "\n",
    "tr.head()"
   ]
  },
  {
   "cell_type": "code",
   "execution_count": null,
   "metadata": {},
   "outputs": [],
   "source": []
  }
 ],
 "metadata": {
  "kernelspec": {
   "display_name": "Python 3",
   "language": "python",
   "name": "python3"
  },
  "language_info": {
   "codemirror_mode": {
    "name": "ipython",
    "version": 3
   },
   "file_extension": ".py",
   "mimetype": "text/x-python",
   "name": "python",
   "nbconvert_exporter": "python",
   "pygments_lexer": "ipython3",
   "version": "3.8.2"
  }
 },
 "nbformat": 4,
 "nbformat_minor": 4
}
